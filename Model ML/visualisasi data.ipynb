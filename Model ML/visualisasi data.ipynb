{
 "cells": [
  {
   "cell_type": "code",
   "execution_count": null,
   "metadata": {},
   "outputs": [],
   "source": [
    "import pandas as pd\n",
    "import matplotlib.pyplot as plt\n",
    "\n",
    "# Ganti 'nama_file.xlsx' dengan nama file Excel Anda\n",
    "file_path = 'E:\\KucingKu Web\\Model ML\\data.xlsx'\n",
    "\n",
    "# Membaca file Excel\n",
    "df = pd.read_excel(file_path)\n",
    "\n",
    "# Menghitung jumlah user_id untuk setiap rating\n",
    "rating_counts = df['rating'].value_counts().sort_index()\n",
    "\n",
    "# Membuat plot\n",
    "plt.figure(figsize=(10, 6))\n",
    "plt.bar(rating_counts.index, rating_counts.values, color='skyblue')\n",
    "\n",
    "# Menambahkan judul dan label sumbu\n",
    "plt.title('Distribusi Rating')\n",
    "plt.xlabel('Rating')\n",
    "plt.ylabel('Jumlah User ID')\n",
    "\n",
    "# Menampilkan plot\n",
    "plt.xticks(range(1, 6))  # Menetapkan nilai X sesuai dengan 1-5\n",
    "plt.grid(axis='y')\n",
    "plt.show()\n"
   ]
  }
 ],
 "metadata": {
  "language_info": {
   "name": "python"
  }
 },
 "nbformat": 4,
 "nbformat_minor": 2
}
